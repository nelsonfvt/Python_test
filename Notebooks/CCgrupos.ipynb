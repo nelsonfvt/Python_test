{
 "cells": [
  {
   "cell_type": "code",
   "execution_count": 5,
   "metadata": {},
   "outputs": [],
   "source": [
    "import pandas as pd\n",
    "import numpy as np\n",
    "import random\n"
   ]
  },
  {
   "cell_type": "code",
   "execution_count": null,
   "metadata": {},
   "outputs": [],
   "source": [
    "#Cargar lista de estudiantes por codigo\n",
    "ests_file = 'VM2022-2.xlsx'\n",
    "ests_df = pd.read_excel(ests_file,sheet_name = 'Listado', header=0)\n",
    "ests_df.dropna(subset = ['CODIGO'], inplace = True)\n",
    "#ests_df.drop(ests_df.columns[[4 ,5]], axis=1, inplace=True)\n",
    "ests_df['CODIGO'] = ests_df['CODIGO'].astype(int)\n",
    "ests_df['CODIGO'] = ests_df['CODIGO'].astype(str)\n"
   ]
  }
 ],
 "metadata": {
  "kernelspec": {
   "display_name": "Python_test",
   "language": "python",
   "name": "python3"
  },
  "language_info": {
   "codemirror_mode": {
    "name": "ipython",
    "version": 3
   },
   "file_extension": ".py",
   "mimetype": "text/x-python",
   "name": "python",
   "nbconvert_exporter": "python",
   "pygments_lexer": "ipython3",
   "version": "3.10.6"
  },
  "orig_nbformat": 4
 },
 "nbformat": 4,
 "nbformat_minor": 2
}
